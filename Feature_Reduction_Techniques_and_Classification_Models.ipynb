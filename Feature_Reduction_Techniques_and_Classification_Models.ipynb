{
  "nbformat": 4,
  "nbformat_minor": 0,
  "metadata": {
    "colab": {
      "name": "Feature Reduction Techniques and Classification Models.ipynb",
      "provenance": [],
      "collapsed_sections": []
    },
    "kernelspec": {
      "name": "python3",
      "display_name": "Python 3"
    },
    "language_info": {
      "name": "python"
    }
  },
  "cells": [
    {
      "cell_type": "markdown",
      "source": [
        "# **Feature Reduction Techniques and Classification Models**"
      ],
      "metadata": {
        "id": "b3bPG3lcDAje"
      }
    },
    {
      "cell_type": "markdown",
      "source": [
        "# **Data Set Description:**\n",
        "\n",
        "Title : Algerian Forest Fires Dataset\n",
        "\n",
        "Link : https://archive.ics.uci.edu/ml/datasets/Algerian+Forest+Fires+Dataset++\n",
        "\n",
        "The dataset includes 122 instances data of regions of Algeria,namely the Bejaia region located in the northeast of Algeria.\n",
        "\n",
        "The period from June 2012 to September 2012.\n",
        "The dataset includes 13 attribues and 1 output attribue (class)\n"
      ],
      "metadata": {
        "id": "_m-RrL_0uvXT"
      }
    },
    {
      "cell_type": "markdown",
      "source": [
        "**Attribute Information:**\n",
        "\n",
        "1. Date : (DD/MM/YYYY) Day, month ('june' to 'september'), year (2012)\n",
        "Weather data observations\n",
        "2. Temp : temperature noon (temperature max) in Celsius degrees: 22 to 42\n",
        "3. RH : Relative Humidity in %: 21 to 90\n",
        "4. Ws :Wind speed in km/h: 6 to 29\n",
        "5. Rain: total day in mm: 0 to 16.8\n",
        "FWI Components\n",
        "6. Fine Fuel Moisture Code (FFMC) index from the FWI system: 28.6 to 92.5\n",
        "7. Duff Moisture Code (DMC) index from the FWI system: 1.1 to 65.9\n",
        "8. Drought Code (DC) index from the FWI system: 7 to 220.4\n",
        "9. Initial Spread Index (ISI) index from the FWI system: 0 to 18.5\n",
        "10. Buildup Index (BUI) index from the FWI system: 1.1 to 68\n",
        "11. Fire Weather Index (FWI) Index: 0 to 31.1\n",
        "12. Classes: two classes, namely Fire and not Fire"
      ],
      "metadata": {
        "id": "gU3kxkTRvr3j"
      }
    },
    {
      "cell_type": "markdown",
      "source": [
        "# **Importing Data set into Google Collab**"
      ],
      "metadata": {
        "id": "z_r94rRHwqzx"
      }
    },
    {
      "cell_type": "code",
      "source": [
        "from google.colab import files\n",
        "uploaded = files.upload()\n"
      ],
      "metadata": {
        "colab": {
          "resources": {
            "http://localhost:8080/nbextensions/google.colab/files.js": {
              "data": "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",
              "ok": true,
              "headers": [
                [
                  "content-type",
                  "application/javascript"
                ]
              ],
              "status": 200,
              "status_text": ""
            }
          },
          "base_uri": "https://localhost:8080/",
          "height": 73
        },
        "id": "v3PO5BKpwpne",
        "outputId": "4a8ccf33-9748-4b5f-888e-2c24d25b9c77"
      },
      "execution_count": null,
      "outputs": [
        {
          "output_type": "display_data",
          "data": {
            "text/html": [
              "\n",
              "     <input type=\"file\" id=\"files-a43b0f75-bce8-45dd-ad64-324a8d90ed8d\" name=\"files[]\" multiple disabled\n",
              "        style=\"border:none\" />\n",
              "     <output id=\"result-a43b0f75-bce8-45dd-ad64-324a8d90ed8d\">\n",
              "      Upload widget is only available when the cell has been executed in the\n",
              "      current browser session. Please rerun this cell to enable.\n",
              "      </output>\n",
              "      <script src=\"/nbextensions/google.colab/files.js\"></script> "
            ],
            "text/plain": [
              "<IPython.core.display.HTML object>"
            ]
          },
          "metadata": {}
        },
        {
          "output_type": "stream",
          "name": "stdout",
          "text": [
            "Saving New_Algerian_forest_fires_dataset.csv to New_Algerian_forest_fires_dataset.csv\n"
          ]
        }
      ]
    },
    {
      "cell_type": "markdown",
      "source": [
        "# **Read Data Set:**"
      ],
      "metadata": {
        "id": "ttxxxd1F7g_x"
      }
    },
    {
      "cell_type": "code",
      "source": [
        "import pandas as pd\n",
        "info = pd.read_csv('New_Algerian_forest_fires_dataset.csv')\n",
        "info.head()"
      ],
      "metadata": {
        "colab": {
          "base_uri": "https://localhost:8080/",
          "height": 206
        },
        "id": "TEgVsKVVxQ_U",
        "outputId": "bc5fa4aa-6bde-44bf-9196-efb49869b5d4"
      },
      "execution_count": null,
      "outputs": [
        {
          "output_type": "execute_result",
          "data": {
            "text/html": [
              "\n",
              "  <div id=\"df-c03c4f2f-d54c-4bfb-8f88-e1d484cff0bd\">\n",
              "    <div class=\"colab-df-container\">\n",
              "      <div>\n",
              "<style scoped>\n",
              "    .dataframe tbody tr th:only-of-type {\n",
              "        vertical-align: middle;\n",
              "    }\n",
              "\n",
              "    .dataframe tbody tr th {\n",
              "        vertical-align: top;\n",
              "    }\n",
              "\n",
              "    .dataframe thead th {\n",
              "        text-align: right;\n",
              "    }\n",
              "</style>\n",
              "<table border=\"1\" class=\"dataframe\">\n",
              "  <thead>\n",
              "    <tr style=\"text-align: right;\">\n",
              "      <th></th>\n",
              "      <th>0</th>\n",
              "      <th>1</th>\n",
              "      <th>2</th>\n",
              "      <th>3</th>\n",
              "      <th>4</th>\n",
              "      <th>5</th>\n",
              "      <th>6</th>\n",
              "      <th>7</th>\n",
              "      <th>8</th>\n",
              "      <th>9</th>\n",
              "      <th>10</th>\n",
              "      <th>11</th>\n",
              "      <th>12</th>\n",
              "      <th>Classes</th>\n",
              "    </tr>\n",
              "  </thead>\n",
              "  <tbody>\n",
              "    <tr>\n",
              "      <th>0</th>\n",
              "      <td>1</td>\n",
              "      <td>6</td>\n",
              "      <td>2012</td>\n",
              "      <td>29</td>\n",
              "      <td>57</td>\n",
              "      <td>18</td>\n",
              "      <td>0.0</td>\n",
              "      <td>65.7</td>\n",
              "      <td>3.4</td>\n",
              "      <td>7.6</td>\n",
              "      <td>1.3</td>\n",
              "      <td>3.4</td>\n",
              "      <td>0.5</td>\n",
              "      <td>not fire</td>\n",
              "    </tr>\n",
              "    <tr>\n",
              "      <th>1</th>\n",
              "      <td>2</td>\n",
              "      <td>6</td>\n",
              "      <td>2012</td>\n",
              "      <td>29</td>\n",
              "      <td>61</td>\n",
              "      <td>13</td>\n",
              "      <td>1.3</td>\n",
              "      <td>64.4</td>\n",
              "      <td>4.1</td>\n",
              "      <td>7.6</td>\n",
              "      <td>1.0</td>\n",
              "      <td>3.9</td>\n",
              "      <td>0.4</td>\n",
              "      <td>not fire</td>\n",
              "    </tr>\n",
              "    <tr>\n",
              "      <th>2</th>\n",
              "      <td>3</td>\n",
              "      <td>6</td>\n",
              "      <td>2012</td>\n",
              "      <td>26</td>\n",
              "      <td>82</td>\n",
              "      <td>22</td>\n",
              "      <td>13.1</td>\n",
              "      <td>47.1</td>\n",
              "      <td>2.5</td>\n",
              "      <td>7.1</td>\n",
              "      <td>0.3</td>\n",
              "      <td>2.7</td>\n",
              "      <td>0.1</td>\n",
              "      <td>not fire</td>\n",
              "    </tr>\n",
              "    <tr>\n",
              "      <th>3</th>\n",
              "      <td>4</td>\n",
              "      <td>6</td>\n",
              "      <td>2012</td>\n",
              "      <td>25</td>\n",
              "      <td>89</td>\n",
              "      <td>13</td>\n",
              "      <td>2.5</td>\n",
              "      <td>28.6</td>\n",
              "      <td>1.3</td>\n",
              "      <td>6.9</td>\n",
              "      <td>0.0</td>\n",
              "      <td>1.7</td>\n",
              "      <td>0.0</td>\n",
              "      <td>not fire</td>\n",
              "    </tr>\n",
              "    <tr>\n",
              "      <th>4</th>\n",
              "      <td>5</td>\n",
              "      <td>6</td>\n",
              "      <td>2012</td>\n",
              "      <td>27</td>\n",
              "      <td>77</td>\n",
              "      <td>16</td>\n",
              "      <td>0.0</td>\n",
              "      <td>64.8</td>\n",
              "      <td>3.0</td>\n",
              "      <td>14.2</td>\n",
              "      <td>1.2</td>\n",
              "      <td>3.9</td>\n",
              "      <td>0.5</td>\n",
              "      <td>not fire</td>\n",
              "    </tr>\n",
              "  </tbody>\n",
              "</table>\n",
              "</div>\n",
              "      <button class=\"colab-df-convert\" onclick=\"convertToInteractive('df-c03c4f2f-d54c-4bfb-8f88-e1d484cff0bd')\"\n",
              "              title=\"Convert this dataframe to an interactive table.\"\n",
              "              style=\"display:none;\">\n",
              "        \n",
              "  <svg xmlns=\"http://www.w3.org/2000/svg\" height=\"24px\"viewBox=\"0 0 24 24\"\n",
              "       width=\"24px\">\n",
              "    <path d=\"M0 0h24v24H0V0z\" fill=\"none\"/>\n",
              "    <path d=\"M18.56 5.44l.94 2.06.94-2.06 2.06-.94-2.06-.94-.94-2.06-.94 2.06-2.06.94zm-11 1L8.5 8.5l.94-2.06 2.06-.94-2.06-.94L8.5 2.5l-.94 2.06-2.06.94zm10 10l.94 2.06.94-2.06 2.06-.94-2.06-.94-.94-2.06-.94 2.06-2.06.94z\"/><path d=\"M17.41 7.96l-1.37-1.37c-.4-.4-.92-.59-1.43-.59-.52 0-1.04.2-1.43.59L10.3 9.45l-7.72 7.72c-.78.78-.78 2.05 0 2.83L4 21.41c.39.39.9.59 1.41.59.51 0 1.02-.2 1.41-.59l7.78-7.78 2.81-2.81c.8-.78.8-2.07 0-2.86zM5.41 20L4 18.59l7.72-7.72 1.47 1.35L5.41 20z\"/>\n",
              "  </svg>\n",
              "      </button>\n",
              "      \n",
              "  <style>\n",
              "    .colab-df-container {\n",
              "      display:flex;\n",
              "      flex-wrap:wrap;\n",
              "      gap: 12px;\n",
              "    }\n",
              "\n",
              "    .colab-df-convert {\n",
              "      background-color: #E8F0FE;\n",
              "      border: none;\n",
              "      border-radius: 50%;\n",
              "      cursor: pointer;\n",
              "      display: none;\n",
              "      fill: #1967D2;\n",
              "      height: 32px;\n",
              "      padding: 0 0 0 0;\n",
              "      width: 32px;\n",
              "    }\n",
              "\n",
              "    .colab-df-convert:hover {\n",
              "      background-color: #E2EBFA;\n",
              "      box-shadow: 0px 1px 2px rgba(60, 64, 67, 0.3), 0px 1px 3px 1px rgba(60, 64, 67, 0.15);\n",
              "      fill: #174EA6;\n",
              "    }\n",
              "\n",
              "    [theme=dark] .colab-df-convert {\n",
              "      background-color: #3B4455;\n",
              "      fill: #D2E3FC;\n",
              "    }\n",
              "\n",
              "    [theme=dark] .colab-df-convert:hover {\n",
              "      background-color: #434B5C;\n",
              "      box-shadow: 0px 1px 3px 1px rgba(0, 0, 0, 0.15);\n",
              "      filter: drop-shadow(0px 1px 2px rgba(0, 0, 0, 0.3));\n",
              "      fill: #FFFFFF;\n",
              "    }\n",
              "  </style>\n",
              "\n",
              "      <script>\n",
              "        const buttonEl =\n",
              "          document.querySelector('#df-c03c4f2f-d54c-4bfb-8f88-e1d484cff0bd button.colab-df-convert');\n",
              "        buttonEl.style.display =\n",
              "          google.colab.kernel.accessAllowed ? 'block' : 'none';\n",
              "\n",
              "        async function convertToInteractive(key) {\n",
              "          const element = document.querySelector('#df-c03c4f2f-d54c-4bfb-8f88-e1d484cff0bd');\n",
              "          const dataTable =\n",
              "            await google.colab.kernel.invokeFunction('convertToInteractive',\n",
              "                                                     [key], {});\n",
              "          if (!dataTable) return;\n",
              "\n",
              "          const docLinkHtml = 'Like what you see? Visit the ' +\n",
              "            '<a target=\"_blank\" href=https://colab.research.google.com/notebooks/data_table.ipynb>data table notebook</a>'\n",
              "            + ' to learn more about interactive tables.';\n",
              "          element.innerHTML = '';\n",
              "          dataTable['output_type'] = 'display_data';\n",
              "          await google.colab.output.renderOutput(dataTable, element);\n",
              "          const docLink = document.createElement('div');\n",
              "          docLink.innerHTML = docLinkHtml;\n",
              "          element.appendChild(docLink);\n",
              "        }\n",
              "      </script>\n",
              "    </div>\n",
              "  </div>\n",
              "  "
            ],
            "text/plain": [
              "   0  1     2   3   4   5     6     7    8     9   10   11   12   Classes\n",
              "0  1  6  2012  29  57  18   0.0  65.7  3.4   7.6  1.3  3.4  0.5  not fire\n",
              "1  2  6  2012  29  61  13   1.3  64.4  4.1   7.6  1.0  3.9  0.4  not fire\n",
              "2  3  6  2012  26  82  22  13.1  47.1  2.5   7.1  0.3  2.7  0.1  not fire\n",
              "3  4  6  2012  25  89  13   2.5  28.6  1.3   6.9  0.0  1.7  0.0  not fire\n",
              "4  5  6  2012  27  77  16   0.0  64.8  3.0  14.2  1.2  3.9  0.5  not fire"
            ]
          },
          "metadata": {},
          "execution_count": 3
        }
      ]
    },
    {
      "cell_type": "markdown",
      "source": [
        "## **Segregation of X and Y**"
      ],
      "metadata": {
        "id": "sxyzzYdq7twq"
      }
    },
    {
      "cell_type": "code",
      "source": [
        "X = info.drop('Classes',axis=1)\n",
        "y = info['Classes']\n",
        "print(X.shape)\n",
        "print(y.shape)\n"
      ],
      "metadata": {
        "id": "3XXak-1s73XQ",
        "colab": {
          "base_uri": "https://localhost:8080/"
        },
        "outputId": "50602d1f-8cbe-439a-f8e7-ea91e66a1127"
      },
      "execution_count": null,
      "outputs": [
        {
          "output_type": "stream",
          "name": "stdout",
          "text": [
            "(122, 13)\n",
            "(122,)\n"
          ]
        }
      ]
    },
    {
      "cell_type": "markdown",
      "source": [
        "# **Standardize features**"
      ],
      "metadata": {
        "id": "e43ncCGq_cxA"
      }
    },
    {
      "cell_type": "code",
      "source": [
        "from sklearn.model_selection import train_test_split\n",
        "X_train, X_test, y_train, y_test = train_test_split(X, y, test_size = 0.20, random_state = 0)\n",
        "from sklearn.preprocessing import StandardScaler\n",
        "sc = StandardScaler()\n",
        "X_train = sc.fit_transform(X_train)\n",
        "X_test = sc.transform(X_test)\n",
        "print(X_train.shape)\n",
        "print(X_test.shape)\n",
        "print(y_train.shape)\n",
        "print(y_test.shape)"
      ],
      "metadata": {
        "id": "SpXh7ebT2_lt",
        "colab": {
          "base_uri": "https://localhost:8080/"
        },
        "outputId": "3eb141f7-f142-4a6a-ca51-87fcb396f6bc"
      },
      "execution_count": null,
      "outputs": [
        {
          "output_type": "stream",
          "name": "stdout",
          "text": [
            "(97, 13)\n",
            "(25, 13)\n",
            "(97,)\n",
            "(25,)\n"
          ]
        }
      ]
    },
    {
      "cell_type": "markdown",
      "source": [
        "# **Feature Reduction Techniques:**"
      ],
      "metadata": {
        "id": "U2TE3Kfbciz4"
      }
    },
    {
      "cell_type": "markdown",
      "source": [
        "**Linear Discriminant Analysis(LDA)**\n"
      ],
      "metadata": {
        "id": "9g18h6RNNfl4"
      }
    },
    {
      "cell_type": "code",
      "source": [
        "from sklearn.discriminant_analysis import LinearDiscriminantAnalysis as LDA\n",
        "lda = LDA(n_components=1)\n",
        "x_train_lda = lda.fit_transform(X_train, y_train)\n",
        "x_test_lda = lda.transform(X_test)\n",
        "print(x_train_lda.shape)\n",
        "print(x_test_lda.shape)"
      ],
      "metadata": {
        "id": "kNgaJi6yFaZc",
        "colab": {
          "base_uri": "https://localhost:8080/"
        },
        "outputId": "fc82c3f6-0636-47cb-b136-8a04b7246b70"
      },
      "execution_count": null,
      "outputs": [
        {
          "output_type": "stream",
          "name": "stdout",
          "text": [
            "(97, 1)\n",
            "(25, 1)\n"
          ]
        }
      ]
    },
    {
      "cell_type": "markdown",
      "source": [
        "**Principal Component Analysis(PCA)**"
      ],
      "metadata": {
        "id": "41-slODLNrMU"
      }
    },
    {
      "cell_type": "code",
      "source": [
        "from sklearn.decomposition import PCA\n",
        "pca = PCA(n_components='mle')\n",
        "pca.fit(X_train)\n",
        "x_train_pca=pca.fit_transform(X_train)\n",
        "x_test_pca = pca.transform(X_test)\n",
        "print(x_train_pca.shape)\n",
        "print(x_test_pca.shape)"
      ],
      "metadata": {
        "id": "V9U0DyuzJt2z",
        "colab": {
          "base_uri": "https://localhost:8080/"
        },
        "outputId": "cce2057c-a038-41f0-c25f-e4b2be663d4b"
      },
      "execution_count": null,
      "outputs": [
        {
          "output_type": "stream",
          "name": "stdout",
          "text": [
            "(97, 12)\n",
            "(25, 12)\n"
          ]
        }
      ]
    },
    {
      "cell_type": "markdown",
      "source": [
        "# **Classification Models:**"
      ],
      "metadata": {
        "id": "67g8P8vDhtLK"
      }
    },
    {
      "cell_type": "markdown",
      "source": [
        "**SVM on LDA reduced dataset**"
      ],
      "metadata": {
        "id": "5uEELix4dzSb"
      }
    },
    {
      "cell_type": "code",
      "source": [
        "from sklearn.svm import SVC\n",
        "model=SVC(kernel='linear')\n",
        "model.fit(x_train_lda, y_train)\n",
        "y_pred_lda=model.predict(x_test_lda)\n",
        "from sklearn.metrics import classification_report, confusion_matrix\n",
        "print(\"Confusion Matrix\")\n",
        "print(confusion_matrix(y_test,y_pred_lda))\n",
        "print(classification_report(y_test,y_pred_lda))"
      ],
      "metadata": {
        "id": "onrfScZcQrZA",
        "colab": {
          "base_uri": "https://localhost:8080/"
        },
        "outputId": "5e424352-ea5a-4868-de81-ce7380de9599"
      },
      "execution_count": null,
      "outputs": [
        {
          "output_type": "stream",
          "name": "stdout",
          "text": [
            "Confusion Matrix\n",
            "[[11  1]\n",
            " [ 0 13]]\n",
            "              precision    recall  f1-score   support\n",
            "\n",
            "        fire       1.00      0.92      0.96        12\n",
            "    not fire       0.93      1.00      0.96        13\n",
            "\n",
            "    accuracy                           0.96        25\n",
            "   macro avg       0.96      0.96      0.96        25\n",
            "weighted avg       0.96      0.96      0.96        25\n",
            "\n"
          ]
        }
      ]
    },
    {
      "cell_type": "markdown",
      "source": [
        "**SVM on PCA reduced dataset**"
      ],
      "metadata": {
        "id": "iaCaBAfDivF-"
      }
    },
    {
      "cell_type": "code",
      "source": [
        "from sklearn.svm import SVC\n",
        "model=SVC(kernel='linear')\n",
        "model.fit(x_train_pca, y_train)\n",
        "y_pred_pca=model.predict(x_test_pca)\n",
        "print(\"Confusion Matrix\")\n",
        "print(confusion_matrix(y_test,y_pred_pca))\n",
        "print(classification_report(y_test,y_pred_pca))"
      ],
      "metadata": {
        "colab": {
          "base_uri": "https://localhost:8080/"
        },
        "id": "55zfov4RifX1",
        "outputId": "ca7139fc-85c8-4aeb-f847-27bedb6fe1b2"
      },
      "execution_count": null,
      "outputs": [
        {
          "output_type": "stream",
          "name": "stdout",
          "text": [
            "Confusion Matrix\n",
            "[[11  1]\n",
            " [ 0 13]]\n",
            "              precision    recall  f1-score   support\n",
            "\n",
            "        fire       1.00      0.92      0.96        12\n",
            "    not fire       0.93      1.00      0.96        13\n",
            "\n",
            "    accuracy                           0.96        25\n",
            "   macro avg       0.96      0.96      0.96        25\n",
            "weighted avg       0.96      0.96      0.96        25\n",
            "\n"
          ]
        }
      ]
    },
    {
      "cell_type": "markdown",
      "source": [
        "**Naive Bayes on LDA reduced dataset**"
      ],
      "metadata": {
        "id": "U15xxP-Skk1C"
      }
    },
    {
      "cell_type": "code",
      "source": [
        "from sklearn.naive_bayes import GaussianNB\n",
        "model=GaussianNB()\n",
        "model.fit(x_train_lda, y_train)\n",
        "y_pred_lda=model.predict(x_test_lda)\n",
        "print(\"Confusion Matrix\")\n",
        "print(confusion_matrix(y_test,y_pred_lda))\n",
        "print(classification_report(y_test,y_pred_lda))"
      ],
      "metadata": {
        "colab": {
          "base_uri": "https://localhost:8080/"
        },
        "id": "jJrlMVl3kZg6",
        "outputId": "eb615deb-fb26-479e-d6ca-ebef0fe4c537"
      },
      "execution_count": null,
      "outputs": [
        {
          "output_type": "stream",
          "name": "stdout",
          "text": [
            "Confusion Matrix\n",
            "[[11  1]\n",
            " [ 1 12]]\n",
            "              precision    recall  f1-score   support\n",
            "\n",
            "        fire       0.92      0.92      0.92        12\n",
            "    not fire       0.92      0.92      0.92        13\n",
            "\n",
            "    accuracy                           0.92        25\n",
            "   macro avg       0.92      0.92      0.92        25\n",
            "weighted avg       0.92      0.92      0.92        25\n",
            "\n"
          ]
        }
      ]
    },
    {
      "cell_type": "markdown",
      "source": [
        " **Naive Bayes on PCA reduced dataset**"
      ],
      "metadata": {
        "id": "3MImMP0Qkbf1"
      }
    },
    {
      "cell_type": "code",
      "source": [
        "from sklearn.naive_bayes import GaussianNB\n",
        "model=GaussianNB()\n",
        "model.fit(x_train_pca, y_train)\n",
        "y_pred_pca=model.predict(x_test_pca)\n",
        "print(\"Confusion Matrix\")\n",
        "print(confusion_matrix(y_test,y_pred_pca))\n",
        "print(classification_report(y_test,y_pred_pca))"
      ],
      "metadata": {
        "colab": {
          "base_uri": "https://localhost:8080/"
        },
        "id": "SpJpISvCk-j2",
        "outputId": "5e8005d0-f680-43b5-d9e2-65eafa33aab8"
      },
      "execution_count": null,
      "outputs": [
        {
          "output_type": "stream",
          "name": "stdout",
          "text": [
            "Confusion Matrix\n",
            "[[10  2]\n",
            " [ 1 12]]\n",
            "              precision    recall  f1-score   support\n",
            "\n",
            "        fire       0.91      0.83      0.87        12\n",
            "    not fire       0.86      0.92      0.89        13\n",
            "\n",
            "    accuracy                           0.88        25\n",
            "   macro avg       0.88      0.88      0.88        25\n",
            "weighted avg       0.88      0.88      0.88        25\n",
            "\n"
          ]
        }
      ]
    },
    {
      "cell_type": "markdown",
      "source": [
        "**Decision Tree on LDA reduced dataset**"
      ],
      "metadata": {
        "id": "OiN4sibil29X"
      }
    },
    {
      "cell_type": "code",
      "source": [
        "from sklearn.tree import DecisionTreeClassifier\n",
        "model=DecisionTreeClassifier(random_state=42)\n",
        "model.fit(x_train_lda, y_train)\n",
        "y_pred_lda=model.predict(x_test_lda)\n",
        "print(\"Confusion Matrix\")\n",
        "print(confusion_matrix(y_test,y_pred_lda))\n",
        "print(classification_report(y_test,y_pred_lda))"
      ],
      "metadata": {
        "colab": {
          "base_uri": "https://localhost:8080/"
        },
        "id": "7OXMVz62l722",
        "outputId": "bfa2c901-f813-46e8-913b-2d36aef10338"
      },
      "execution_count": null,
      "outputs": [
        {
          "output_type": "stream",
          "name": "stdout",
          "text": [
            "Confusion Matrix\n",
            "[[12  0]\n",
            " [ 1 12]]\n",
            "              precision    recall  f1-score   support\n",
            "\n",
            "        fire       0.92      1.00      0.96        12\n",
            "    not fire       1.00      0.92      0.96        13\n",
            "\n",
            "    accuracy                           0.96        25\n",
            "   macro avg       0.96      0.96      0.96        25\n",
            "weighted avg       0.96      0.96      0.96        25\n",
            "\n"
          ]
        }
      ]
    },
    {
      "cell_type": "markdown",
      "source": [
        "**Decision Tree On PCA reduced dataset**"
      ],
      "metadata": {
        "id": "kfZQL5zkl8_X"
      }
    },
    {
      "cell_type": "code",
      "source": [
        "from sklearn.tree import DecisionTreeClassifier\n",
        "model=DecisionTreeClassifier(random_state=42)\n",
        "model.fit(x_train_pca, y_train)\n",
        "y_pred_pca=model.predict(x_test_pca)\n",
        "print(\"Confusion Matrix\")\n",
        "print(confusion_matrix(y_test,y_pred_pca))\n",
        "print(classification_report(y_test,y_pred_pca))"
      ],
      "metadata": {
        "colab": {
          "base_uri": "https://localhost:8080/"
        },
        "id": "E-XzsDLEmBOX",
        "outputId": "1e4ea566-c09a-4a33-f22a-998ed72dbc1e"
      },
      "execution_count": null,
      "outputs": [
        {
          "output_type": "stream",
          "name": "stdout",
          "text": [
            "Confusion Matrix\n",
            "[[12  0]\n",
            " [ 1 12]]\n",
            "              precision    recall  f1-score   support\n",
            "\n",
            "        fire       0.92      1.00      0.96        12\n",
            "    not fire       1.00      0.92      0.96        13\n",
            "\n",
            "    accuracy                           0.96        25\n",
            "   macro avg       0.96      0.96      0.96        25\n",
            "weighted avg       0.96      0.96      0.96        25\n",
            "\n"
          ]
        }
      ]
    },
    {
      "cell_type": "markdown",
      "source": [
        "# **Inference:**\n",
        "\n",
        "After performing feature reduction techniques, the data is used on classification models. To evaluate, confusion matrix is used.\n",
        "As the dataset classes are balanced, Accuracy metric is used for comparing the models\n",
        "\n",
        "![image.png](data:image/png;base64,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)\n",
        "\n",
        "\n",
        "From the above table, \n",
        "\n",
        "On Comparing the feature reduction techniques, LDA is performing better than PCA with slight difference.\n",
        "\n",
        "On Comparing the classification models, SVM and Decision tree are performing better compared than to Naive Bayes with slight difference"
      ],
      "metadata": {
        "id": "sr7z_7WhGLKt"
      }
    }
  ]
}